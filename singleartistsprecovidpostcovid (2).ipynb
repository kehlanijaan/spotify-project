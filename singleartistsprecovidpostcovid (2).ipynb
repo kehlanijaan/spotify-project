{
 "cells": [
  {
   "cell_type": "markdown",
   "id": "57fd61df-22cc-4cac-8710-7dbc7a2c22a3",
   "metadata": {},
   "source": [
    "Artists that perform consistently throughout music industry, and continued streaming for TikTok during AND after the COVID-19, data collected from Spotify artists API. \n",
    "\n",
    "Top 5 Artists that consistently performed and produced for music industry including for TikTok and Spotify, during and post the pandemic. "
   ]
  },
  {
   "cell_type": "code",
   "execution_count": 20,
   "id": "b7e12020-d967-4db6-a3cb-d4d555b37af4",
   "metadata": {},
   "outputs": [],
   "source": [
    "# import dependencies\n",
    "import spotipy as sp\n",
    "from spotipy.oauth2 import SpotifyClientCredentials\n",
    "from pprint import pprint\n",
    "import pandas as pd\n",
    "import numpy as np\n",
    "\n",
    "CLIENT_ID = '8937da6b10aa4e4cbd3409fd28a5d980'\n",
    "CLIENT_SECRET = '76beb3174f274f38877dd06e38618202'\n",
    "\n",
    "# Initialize the Spotify client with client credentials flow\n",
    "client_credentials_manager = SpotifyClientCredentials(client_id=CLIENT_ID, client_secret=CLIENT_SECRET)\n",
    "sp = sp.Spotify(client_credentials_manager=client_credentials_manager)"
   ]
  },
  {
   "cell_type": "markdown",
   "id": "c357ad5a-69dd-46bd-a54d-7282db4793ea",
   "metadata": {},
   "source": [
    "Taylor Swift artist performed and produced consistently throughout Pre Covid-19 and Post Covid-19."
   ]
  },
  {
   "cell_type": "code",
   "execution_count": 21,
   "id": "dc225816-e936-48ef-a48a-1f0807820a58",
   "metadata": {},
   "outputs": [],
   "source": [
    "taylor_uri = 'spotify:artist:06HL4z0CvFAxyc27GXpf02'"
   ]
  },
  {
   "cell_type": "code",
   "execution_count": 22,
   "id": "d221e2df-24e5-471b-8253-f566e2823532",
   "metadata": {},
   "outputs": [
    {
     "name": "stdout",
     "output_type": "stream",
     "text": [
      "1989 (Taylor's Version) [Deluxe]\n",
      "1989 (Taylor's Version)\n",
      "Speak Now (Taylor's Version)\n",
      "Midnights (The Til Dawn Edition)\n",
      "Midnights (3am Edition)\n",
      "Midnights\n",
      "Red (Taylor's Version)\n",
      "Fearless (Taylor's Version)\n",
      "evermore (deluxe version)\n",
      "evermore\n",
      "folklore: the long pond studio sessions (from the Disney+ special) [deluxe edition]\n",
      "folklore (deluxe version)\n",
      "folklore\n",
      "Lover\n",
      "reputation\n",
      "reputation Stadium Tour Surprise Song Playlist\n",
      "1989 (Deluxe)\n",
      "1989\n",
      "Red (Deluxe Edition)\n",
      "Speak Now World Tour Live\n",
      "Speak Now\n",
      "Speak Now (Deluxe Package)\n",
      "Fearless (Platinum Edition)\n",
      "Fearless (International Version)\n",
      "Live From Clear Channel Stripped 2008\n",
      "Taylor Swift\n"
     ]
    }
   ],
   "source": [
    "results = sp.artist_albums(taylor_uri, album_type='album')\n",
    "albums = results['items']\n",
    "while results['next']:\n",
    "    results = sp.next(results)\n",
    "    albums.extend(results['items'])\n",
    "\n",
    "for album in albums:\n",
    "    print(album['name'])"
   ]
  },
  {
   "cell_type": "code",
   "execution_count": 20,
   "id": "433043ab-0887-41ce-81c0-1a80370d77c4",
   "metadata": {},
   "outputs": [
    {
     "data": {
      "text/html": [
       "<div>\n",
       "<style scoped>\n",
       "    .dataframe tbody tr th:only-of-type {\n",
       "        vertical-align: middle;\n",
       "    }\n",
       "\n",
       "    .dataframe tbody tr th {\n",
       "        vertical-align: top;\n",
       "    }\n",
       "\n",
       "    .dataframe thead th {\n",
       "        text-align: right;\n",
       "    }\n",
       "</style>\n",
       "<table border=\"1\" class=\"dataframe\">\n",
       "  <thead>\n",
       "    <tr style=\"text-align: right;\">\n",
       "      <th></th>\n",
       "      <th>Artists</th>\n",
       "      <th>ALBUMS RELEASED Pre-COVID-19</th>\n",
       "      <th>ALBUMS RELEASED Post-COVID-19</th>\n",
       "      <th>Performance before COVID-19</th>\n",
       "      <th>Performance after COVID-19</th>\n",
       "    </tr>\n",
       "  </thead>\n",
       "  <tbody>\n",
       "    <tr>\n",
       "      <th>0</th>\n",
       "      <td>Taylor Swift</td>\n",
       "      <td>6</td>\n",
       "      <td>8</td>\n",
       "      <td>Very Popular</td>\n",
       "      <td>Very Popular</td>\n",
       "    </tr>\n",
       "  </tbody>\n",
       "</table>\n",
       "</div>"
      ],
      "text/plain": [
       "        Artists  ALBUMS RELEASED Pre-COVID-19  ALBUMS RELEASED Post-COVID-19  \\\n",
       "0  Taylor Swift                             6                              8   \n",
       "\n",
       "  Performance before COVID-19 Performance after COVID-19  \n",
       "0                Very Popular               Very Popular  "
      ]
     },
     "execution_count": 20,
     "metadata": {},
     "output_type": "execute_result"
    }
   ],
   "source": [
    "# Create a DataFrame from pre covid vs post covid\n",
    "taylor_df = pd.DataFrame([\n",
    "    {\"Artists\" : \"Taylor Swift\", \"ALBUMS RELEASED Pre-COVID-19\" : 6, \"ALBUMS RELEASED Post-COVID-19\" : 8, \n",
    "     \"Performance before COVID-19\" : \"Very Popular\",\n",
    "    \"Performance after COVID-19\" : \"Very Popular\"}\n",
    "])\n",
    "taylor_df"
   ]
  },
  {
   "cell_type": "code",
   "execution_count": null,
   "id": "097f82c5-c9b2-4f42-9c14-2b0825d5a189",
   "metadata": {},
   "outputs": [],
   "source": [
    "\n"
   ]
  },
  {
   "cell_type": "markdown",
   "id": "334f67b3-e9df-4817-bc95-a6dfd6ae7d23",
   "metadata": {},
   "source": [
    "Drake performed and produced consistently throughout Pre-Covid-19 and Post-Covid-19"
   ]
  },
  {
   "cell_type": "code",
   "execution_count": 11,
   "id": "6664536f-1173-463f-abf9-8e74b0552f51",
   "metadata": {},
   "outputs": [],
   "source": [
    "drake_uri = 'spotify:artist:3TVXtAsR1Inumwj472S9r4'"
   ]
  },
  {
   "cell_type": "code",
   "execution_count": 12,
   "id": "d39ba59d-ddcc-4033-8e87-1e730a04b46e",
   "metadata": {},
   "outputs": [
    {
     "name": "stdout",
     "output_type": "stream",
     "text": [
      "For All The Dogs Scary Hours Edition\n",
      "For All The Dogs\n",
      "Her Loss\n",
      "Honestly, Nevermind\n",
      "Certified Lover Boy\n",
      "Dark Lane Demo Tapes\n",
      "Care Package\n",
      "Scorpion\n",
      "More Life\n",
      "Views\n",
      "What A Time To Be Alive\n",
      "If You're Reading This It's Too Late\n",
      "Nothing Was The Same (Deluxe)\n",
      "Nothing Was The Same\n",
      "Take Care (Deluxe)\n",
      "Thank Me Later (Int'l Version)\n",
      "So Far Gone\n"
     ]
    }
   ],
   "source": [
    "results = sp.artist_albums(drake_uri, album_type='album')\n",
    "albums = results['items']\n",
    "while results['next']:\n",
    "    results = sp.next(results)\n",
    "    albums.extend(results['items'])\n",
    "\n",
    "for album in albums:\n",
    "    print(album['name'])"
   ]
  },
  {
   "cell_type": "code",
   "execution_count": 21,
   "id": "0b726bde-ea4b-4f03-8e59-342ec8c4d955",
   "metadata": {},
   "outputs": [
    {
     "data": {
      "text/html": [
       "<div>\n",
       "<style scoped>\n",
       "    .dataframe tbody tr th:only-of-type {\n",
       "        vertical-align: middle;\n",
       "    }\n",
       "\n",
       "    .dataframe tbody tr th {\n",
       "        vertical-align: top;\n",
       "    }\n",
       "\n",
       "    .dataframe thead th {\n",
       "        text-align: right;\n",
       "    }\n",
       "</style>\n",
       "<table border=\"1\" class=\"dataframe\">\n",
       "  <thead>\n",
       "    <tr style=\"text-align: right;\">\n",
       "      <th></th>\n",
       "      <th>Artist</th>\n",
       "      <th>ALBUMS RELEASED before COVID-19</th>\n",
       "      <th>ALBUMS RELEASED post COVID-19</th>\n",
       "      <th>Popularity before COVID-19</th>\n",
       "      <th>Popularity post COVID-19</th>\n",
       "    </tr>\n",
       "  </thead>\n",
       "  <tbody>\n",
       "    <tr>\n",
       "      <th>0</th>\n",
       "      <td>Drake</td>\n",
       "      <td>10</td>\n",
       "      <td>6</td>\n",
       "      <td>Very Popular</td>\n",
       "      <td>Very Popular</td>\n",
       "    </tr>\n",
       "  </tbody>\n",
       "</table>\n",
       "</div>"
      ],
      "text/plain": [
       "  Artist  ALBUMS RELEASED before COVID-19  ALBUMS RELEASED post COVID-19  \\\n",
       "0  Drake                               10                              6   \n",
       "\n",
       "  Popularity before COVID-19 Popularity post COVID-19  \n",
       "0               Very Popular             Very Popular  "
      ]
     },
     "execution_count": 21,
     "metadata": {},
     "output_type": "execute_result"
    }
   ],
   "source": [
    "# Create a DataFrame from a list of dictionaries.\n",
    "drake_df = pd.DataFrame([\n",
    "    {\"Artist\": \"Drake\", \"ALBUMS RELEASED before COVID-19\": 10,\n",
    "     \"ALBUMS RELEASED post COVID-19\": 6, \"Popularity before COVID-19\": \"Very Popular\", \"Popularity post COVID-19\" : \"Very Popular\"},\n",
    "])\n",
    "drake_df"
   ]
  },
  {
   "cell_type": "markdown",
   "id": "0501f30d-484b-4ab1-8b7d-6440f7f49689",
   "metadata": {},
   "source": [
    "the weeknd performed and produced throughout pre-Covid-19 and post-Covid-19"
   ]
  },
  {
   "cell_type": "code",
   "execution_count": 13,
   "id": "8551395d-5c2d-443a-ac5a-099fc86620a3",
   "metadata": {},
   "outputs": [],
   "source": [
    "the_weeknd_uri = 'spotify:artist:1Xyo4u8uXC1ZmMpatF05PJ'"
   ]
  },
  {
   "cell_type": "code",
   "execution_count": 14,
   "id": "13058a6f-5381-4bda-898f-8afe4358377a",
   "metadata": {},
   "outputs": [
    {
     "name": "stdout",
     "output_type": "stream",
     "text": [
      "Starboy (Deluxe)\n",
      "Live At SoFi Stadium\n",
      "Avatar: The Way of Water (Original Motion Picture Soundtrack)\n",
      "Dawn FM (Alternate World)\n",
      "Dawn FM\n",
      "After Hours (Deluxe)\n",
      "After Hours\n",
      "My Dear Melancholy,\n",
      "Starboy\n",
      "Beauty Behind The Madness\n",
      "Kiss Land (Deluxe)\n",
      "Kiss Land\n",
      "Trilogy\n",
      "Echoes Of Silence (Original)\n",
      "Thursday (Original)\n",
      "House Of Balloons (Original)\n"
     ]
    }
   ],
   "source": [
    "results = sp.artist_albums(the_weeknd_uri, album_type='album')\n",
    "albums = results['items']\n",
    "while results['next']:\n",
    "    results = sp.next(results)\n",
    "    albums.extend(results['items'])\n",
    "\n",
    "for album in albums:\n",
    "    print(album['name'])"
   ]
  },
  {
   "cell_type": "code",
   "execution_count": 24,
   "id": "0b9c1bee-92cc-4ecc-99f0-48cfe7876095",
   "metadata": {},
   "outputs": [
    {
     "data": {
      "text/html": [
       "<div>\n",
       "<style scoped>\n",
       "    .dataframe tbody tr th:only-of-type {\n",
       "        vertical-align: middle;\n",
       "    }\n",
       "\n",
       "    .dataframe tbody tr th {\n",
       "        vertical-align: top;\n",
       "    }\n",
       "\n",
       "    .dataframe thead th {\n",
       "        text-align: right;\n",
       "    }\n",
       "</style>\n",
       "<table border=\"1\" class=\"dataframe\">\n",
       "  <thead>\n",
       "    <tr style=\"text-align: right;\">\n",
       "      <th></th>\n",
       "      <th>Artist</th>\n",
       "      <th>ALBUMS RELEASED pre-COVID-19</th>\n",
       "      <th>ALBUMS RELEASED Post-COVID-19</th>\n",
       "      <th>Popularity pre-COVID-19</th>\n",
       "      <th>Popularity post-COVID-19</th>\n",
       "    </tr>\n",
       "  </thead>\n",
       "  <tbody>\n",
       "    <tr>\n",
       "      <th>0</th>\n",
       "      <td>the weeknd</td>\n",
       "      <td>8</td>\n",
       "      <td>8</td>\n",
       "      <td>Very Popular</td>\n",
       "      <td>Very Popular</td>\n",
       "    </tr>\n",
       "  </tbody>\n",
       "</table>\n",
       "</div>"
      ],
      "text/plain": [
       "       Artist  ALBUMS RELEASED pre-COVID-19  ALBUMS RELEASED Post-COVID-19  \\\n",
       "0  the weeknd                             8                              8   \n",
       "\n",
       "  Popularity pre-COVID-19 Popularity post-COVID-19  \n",
       "0            Very Popular             Very Popular  "
      ]
     },
     "execution_count": 24,
     "metadata": {},
     "output_type": "execute_result"
    }
   ],
   "source": [
    "# Create a DataFrame from a list of dictionaries.\n",
    "the_weeknd_df = pd.DataFrame([\n",
    "    {\"Artist\": \"the weeknd\", \"ALBUMS RELEASED pre-COVID-19\": 8,\n",
    "     \"ALBUMS RELEASED Post-COVID-19\": 8, \"Popularity pre-COVID-19\": \"Very Popular\", \"Popularity post-COVID-19\" : \"Very Popular\"},\n",
    "])\n",
    "the_weeknd_df"
   ]
  },
  {
   "cell_type": "markdown",
   "id": "de80902a-e015-4eed-83d3-65287746930f",
   "metadata": {},
   "source": [
    "Ariana grande performance throughout pre-Covid-19 and post-Covid-19"
   ]
  },
  {
   "cell_type": "code",
   "execution_count": 15,
   "id": "2c740302-1bbd-4a91-bc89-9df5726aa1f4",
   "metadata": {},
   "outputs": [],
   "source": [
    "ariana_grande_uri = 'spotify:artist:66CXWjxzNUsdJxJ2JdwvnR'"
   ]
  },
  {
   "cell_type": "code",
   "execution_count": 16,
   "id": "c0fbf806-7d08-416e-aa78-e1bb8ccb06eb",
   "metadata": {},
   "outputs": [
    {
     "name": "stdout",
     "output_type": "stream",
     "text": [
      "Yours Truly (Tenth Anniversary Edition)\n",
      "Positions (Deluxe)\n",
      "Positions\n",
      "k bye for now (swt live)\n",
      "thank u, next\n",
      "Sweetener\n",
      "Dangerous Woman\n",
      "My Everything (Deluxe)\n",
      "Yours Truly\n"
     ]
    }
   ],
   "source": [
    "results = sp.artist_albums(ariana_grande_uri, album_type='album')\n",
    "albums = results['items']\n",
    "while results['next']:\n",
    "    results = sp.next(results)\n",
    "    albums.extend(results['items'])\n",
    "\n",
    "for album in albums:\n",
    "    print(album['name'])"
   ]
  },
  {
   "cell_type": "code",
   "execution_count": 29,
   "id": "9e8bf546-5cd6-4242-90e2-daec2d6e8074",
   "metadata": {},
   "outputs": [
    {
     "data": {
      "text/html": [
       "<div>\n",
       "<style scoped>\n",
       "    .dataframe tbody tr th:only-of-type {\n",
       "        vertical-align: middle;\n",
       "    }\n",
       "\n",
       "    .dataframe tbody tr th {\n",
       "        vertical-align: top;\n",
       "    }\n",
       "\n",
       "    .dataframe thead th {\n",
       "        text-align: right;\n",
       "    }\n",
       "</style>\n",
       "<table border=\"1\" class=\"dataframe\">\n",
       "  <thead>\n",
       "    <tr style=\"text-align: right;\">\n",
       "      <th></th>\n",
       "      <th>Artist</th>\n",
       "      <th>ALBUMS RELEASED pre-COVID-19</th>\n",
       "      <th>ALBUMS RELEASED post-COVID-19</th>\n",
       "      <th>Popularity pre-COVID-19</th>\n",
       "      <th>Popularity post-COVID-19</th>\n",
       "    </tr>\n",
       "  </thead>\n",
       "  <tbody>\n",
       "    <tr>\n",
       "      <th>0</th>\n",
       "      <td>Ariana Grande</td>\n",
       "      <td>3</td>\n",
       "      <td>6</td>\n",
       "      <td>Very Popular</td>\n",
       "      <td>Very Popular</td>\n",
       "    </tr>\n",
       "  </tbody>\n",
       "</table>\n",
       "</div>"
      ],
      "text/plain": [
       "          Artist  ALBUMS RELEASED pre-COVID-19  ALBUMS RELEASED post-COVID-19  \\\n",
       "0  Ariana Grande                             3                              6   \n",
       "\n",
       "  Popularity pre-COVID-19 Popularity post-COVID-19  \n",
       "0            Very Popular             Very Popular  "
      ]
     },
     "execution_count": 29,
     "metadata": {},
     "output_type": "execute_result"
    }
   ],
   "source": [
    "#Create a Dataframe from a list of dictionaries \n",
    "# Create a DataFrame from a list of dictionaries.\n",
    "ariana_df = pd.DataFrame([\n",
    "    {\"Artist\": \"Ariana Grande\", \"ALBUMS RELEASED pre-COVID-19\": 3, \"ALBUMS RELEASED post-COVID-19\": 6,\n",
    "     \"Popularity pre-COVID-19\": \"Very Popular\", \"Popularity post-COVID-19\" : \"Very Popular\"}\n",
    "])\n",
    "ariana_df"
   ]
  },
  {
   "cell_type": "code",
   "execution_count": 18,
   "id": "9f36e9d9-c068-446d-b9ca-9eea448fefcf",
   "metadata": {},
   "outputs": [],
   "source": [
    "ed_sheeren_uri = 'spotify:artist:6eUKZXaKkcviH0Ku9w2n3V'"
   ]
  },
  {
   "cell_type": "code",
   "execution_count": 23,
   "id": "2d810b1f-a630-4120-879a-936f0b1c9952",
   "metadata": {},
   "outputs": [
    {
     "name": "stdout",
     "output_type": "stream",
     "text": [
      "Autumn Variations (Fan Living Room Sessions)\n",
      "Autumn Variations\n",
      "- (Deluxe)\n",
      "=\n",
      "2step (The Remixes)\n",
      "= (Tour Edition)\n",
      "No.6 Collaborations Project\n",
      "÷ (Deluxe)\n",
      "x (Wembley Edition)\n",
      "x (Deluxe Edition)\n",
      "Loose Change\n",
      "Live at the Bedford\n",
      "No.5 Collaborations Project\n",
      "+\n"
     ]
    }
   ],
   "source": [
    "results = sp.artist_albums(ed_sheeren_uri, album_type='album')\n",
    "albums = results['items']\n",
    "while results['next']:\n",
    "    results = sp.next(results)\n",
    "    albums.extend(results['items'])\n",
    "\n",
    "for album in albums:\n",
    "    print(album['name'])"
   ]
  },
  {
   "cell_type": "code",
   "execution_count": 26,
   "id": "dbecc325-f581-49fb-8719-7fbe9847fe4f",
   "metadata": {},
   "outputs": [
    {
     "data": {
      "text/html": [
       "<div>\n",
       "<style scoped>\n",
       "    .dataframe tbody tr th:only-of-type {\n",
       "        vertical-align: middle;\n",
       "    }\n",
       "\n",
       "    .dataframe tbody tr th {\n",
       "        vertical-align: top;\n",
       "    }\n",
       "\n",
       "    .dataframe thead th {\n",
       "        text-align: right;\n",
       "    }\n",
       "</style>\n",
       "<table border=\"1\" class=\"dataframe\">\n",
       "  <thead>\n",
       "    <tr style=\"text-align: right;\">\n",
       "      <th></th>\n",
       "      <th>Artist</th>\n",
       "      <th>ALBUMS RELEASED before COVID-19</th>\n",
       "      <th>Popularity before COVID-19</th>\n",
       "      <th>Popularity post COVID-19</th>\n",
       "      <th>ALBUMS RELEASED post COVID-19</th>\n",
       "    </tr>\n",
       "  </thead>\n",
       "  <tbody>\n",
       "    <tr>\n",
       "      <th>0</th>\n",
       "      <td>Ed Sheeren</td>\n",
       "      <td>7</td>\n",
       "      <td>Very Popular</td>\n",
       "      <td>Very Popular</td>\n",
       "      <td>7</td>\n",
       "    </tr>\n",
       "  </tbody>\n",
       "</table>\n",
       "</div>"
      ],
      "text/plain": [
       "       Artist  ALBUMS RELEASED before COVID-19 Popularity before COVID-19  \\\n",
       "0  Ed Sheeren                                7               Very Popular   \n",
       "\n",
       "  Popularity post COVID-19  ALBUMS RELEASED post COVID-19  \n",
       "0             Very Popular                              7  "
      ]
     },
     "execution_count": 26,
     "metadata": {},
     "output_type": "execute_result"
    }
   ],
   "source": [
    "# Create a DataFrame from a list of dictionaries.\n",
    "ed_sheeren_df = pd.DataFrame([\n",
    "    {\"Artist\": \"Ed Sheeren\", \"ALBUMS RELEASED before COVID-19\": 7,\n",
    "     \"Popularity before COVID-19\": \"Very Popular\",\n",
    "    \"Popularity post COVID-19\": \"Very Popular\", \"ALBUMS RELEASED post COVID-19\": 7}\n",
    "])\n",
    "ed_sheeren_df"
   ]
  },
  {
   "cell_type": "code",
   "execution_count": null,
   "id": "e98e0ef7-ed21-4ac7-8b3f-d8c476a8cfb4",
   "metadata": {},
   "outputs": [],
   "source": []
  },
  {
   "cell_type": "code",
   "execution_count": null,
   "id": "a6c33ff0-ad3f-4a63-aa07-d5474b731a09",
   "metadata": {},
   "outputs": [],
   "source": []
  }
 ],
 "metadata": {
  "kernelspec": {
   "display_name": "Python 3 (ipykernel)",
   "language": "python",
   "name": "python3"
  },
  "language_info": {
   "codemirror_mode": {
    "name": "ipython",
    "version": 3
   },
   "file_extension": ".py",
   "mimetype": "text/x-python",
   "name": "python",
   "nbconvert_exporter": "python",
   "pygments_lexer": "ipython3",
   "version": "3.11.5"
  }
 },
 "nbformat": 4,
 "nbformat_minor": 5
}
